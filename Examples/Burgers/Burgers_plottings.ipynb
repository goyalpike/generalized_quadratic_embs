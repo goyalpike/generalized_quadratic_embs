{
 "cells": [
  {
   "cell_type": "code",
   "execution_count": 44,
   "metadata": {},
   "outputs": [],
   "source": [
    "import scipy.io as sio\n",
    "\n",
    "PATH_QUAD = './../Results/Burgers/quad/'\n",
    "PATH_QUAD_OPINF = './../Results/Burgers/quad_opinf/'"
   ]
  },
  {
   "cell_type": "code",
   "execution_count": 45,
   "metadata": {},
   "outputs": [],
   "source": [
    "data_nonlinear_ae = sio.loadmat(PATH_QUAD + 'simulation_error_order_256_polished_AE.mat')\n",
    "data_opinf_linearproj = sio.loadmat(PATH_QUAD_OPINF + 'simulation_error_order_4_linearproj_quadOpinf.mat')\n",
    "data_opinf_quadproj = sio.loadmat(PATH_QUAD_OPINF + 'simulation_error_order_4_quadproj_quadOpinf.mat')"
   ]
  },
  {
   "cell_type": "code",
   "execution_count": 46,
   "metadata": {},
   "outputs": [
    {
     "data": {
      "text/plain": [
       "(2, 4)"
      ]
     },
     "execution_count": 46,
     "metadata": {},
     "output_type": "execute_result"
    }
   ],
   "source": [
    "np.concatenate((data_nonlinear_ae['errors'], data_nonlinear_ae['errors']), axis=0).shape"
   ]
  },
  {
   "cell_type": "code",
   "execution_count": 47,
   "metadata": {},
   "outputs": [
    {
     "data": {
      "image/png": "[encoded data removed]",
      "text/plain": [
       "<Figure size 432x288 with 1 Axes>"
      ]
     },
     "metadata": {
      "needs_background": "light"
     },
     "output_type": "display_data"
    }
   ],
   "source": [
    "import matplotlib.pyplot as plt\n",
    "import numpy as np\n",
    "plt.rc('text', usetex=True)\n",
    "\n",
    "fig, ax = plt.subplots(1,1, figsize=(6,4))\n",
    "# Sample data (replace with your actual data)\n",
    "methods = [r'LinProj-OpInf', r'QuadProj-Opinf', r'Quad-embs']\n",
    "test_cases = [r'Test 1', r'Test 2', r'Test 3', r'Test 4']\n",
    "\n",
    "# Replace these values with your actual numeric data\n",
    "# data = np.array([\n",
    "#     [value11, value12, value13, value14],  # Method 1\n",
    "#     [value21, value22, value23, value24],  # Method 2\n",
    "#     [value31, value32, value33, value34]   # Method 3\n",
    "# ])\n",
    "data = np.concatenate((data_opinf_linearproj['errors'], \n",
    "                       data_opinf_quadproj['errors'], \n",
    "                       data_nonlinear_ae['errors'],), axis=0)\n",
    "\n",
    "# Set up the bar plot\n",
    "bar_width = 0.2\n",
    "bar_positions = np.arange(len(test_cases))\n",
    "\n",
    "# Plot each method\n",
    "for i, method in enumerate(methods):\n",
    "    bars = ax.bar(bar_positions + i * bar_width, data[i, :], bar_width, label=method)\n",
    "    \n",
    "    # Add labels on each bar\n",
    "    for bar, value in zip(bars, data[i, :]):\n",
    "        ax.text(bar.get_x() + bar.get_width() / 2, bar.get_height() + 0.001, \n",
    "                f'{value:.1e}', ha='center', va='bottom', rotation=0, fontsize=8, fontname='serif')\n",
    "\n",
    "# Add labels and title\n",
    "ax.set_xlabel('Test Cases')\n",
    "ax.set_ylabel('error')\n",
    "ax.set_xticks(bar_positions + bar_width * (len(methods) - 1) / 2, test_cases)\n",
    "ax.legend(loc='center', bbox_to_anchor=(0.5, 1.1), ncol = 3)\n",
    "\n",
    "# Show the plot\n",
    "plt.show()\n",
    "fig.savefig(PATH_QUAD + '/../' + \"test_comparions.png\", dpi=300)\n",
    "fig.savefig(PATH_QUAD + '/../' + \"test_comparions.pdf\")"
   ]
  },
  {
   "cell_type": "code",
   "execution_count": null,
   "metadata": {},
   "outputs": [],
   "source": []
  }
 ],
 "metadata": {
  "kernelspec": {
   "display_name": "dl_gpu",
   "language": "python",
   "name": "python3"
  },
  "language_info": {
   "codemirror_mode": {
    "name": "ipython",
    "version": 3
   },
   "file_extension": ".py",
   "mimetype": "text/x-python",
   "name": "python",
   "nbconvert_exporter": "python",
   "pygments_lexer": "ipython3",
   "version": "3.10.6"
  }
 },
 "nbformat": 4,
 "nbformat_minor": 2
}
